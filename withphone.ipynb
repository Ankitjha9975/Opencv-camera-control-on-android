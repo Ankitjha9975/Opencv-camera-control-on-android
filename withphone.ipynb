{
 "cells": [
  {
   "cell_type": "code",
   "execution_count": 3,
   "metadata": {},
   "outputs": [],
   "source": [
    "import requests\n",
    "import numpy as np\n",
    "import cv2\n",
    "\n",
    "url = 'http://172.20.10.7:8080/shot.jpg'\n",
    "cap = cv2.VideoCapture(url)\n",
    "\n",
    "width = int(cap.get(cv2.CAP_ANDROID))\n",
    "height = int(cap.get(cv2.CAP_ANDROID))\n",
    "while True:\n",
    "    img_res = requests.get(url)\n",
    "    img_arr = np.array(bytearray(img_res.content), dtype = np.uint8)\n",
    "    img = cv2.imdecode(img_arr,-1)\n",
    "\n",
    "    cv2.imshow('frame', img)\n",
    "    if cv2.waitKey(1) & 0xFF == ord('q'):\n",
    "        break\n",
    "        \n",
    "\n",
    "        \n",
    "cap.release()            \n",
    "cv2.destroyAllWindows()"
   ]
  },
  {
   "cell_type": "code",
   "execution_count": null,
   "metadata": {},
   "outputs": [],
   "source": [
    "img2 = cv2.resize(img,(900,600))"
   ]
  },
  {
   "cell_type": "code",
   "execution_count": 19,
   "metadata": {},
   "outputs": [],
   "source": [
    "import requests\n",
    "import numpy as np\n",
    "import cv2\n",
    "\n",
    "url = 'http://192.168.43.57:8080/shot.jpg'\n",
    "cap = cv2.VideoCapture(url)\n",
    "\n",
    "\n",
    "\n",
    "width = int(cap.get(cv2.CAP_ANDROID))\n",
    "height = int(cap.get(cv2.CAP_ANDROID))\n",
    "while True:\n",
    "    img_res = requests.get(url)\n",
    "    img_arr = np.array(bytearray(img_res.content), dtype = np.uint8)\n",
    "    img = cv2.imdecode(img_arr,-1)\n",
    "\n",
    "    cv2.imshow('frame', img)\n",
    "    if cv2.waitKey(1) & 0xFF == ord('q'):\n",
    "        break\n",
    "        \n",
    "\n",
    "        \n",
    "cap.release()            \n",
    "cv2.destroyAllWindows()"
   ]
  },
  {
   "cell_type": "code",
   "execution_count": null,
   "metadata": {},
   "outputs": [],
   "source": []
  }
 ],
 "metadata": {
  "kernelspec": {
   "display_name": "Python 3",
   "language": "python",
   "name": "python3"
  },
  "language_info": {
   "codemirror_mode": {
    "name": "ipython",
    "version": 3
   },
   "file_extension": ".py",
   "mimetype": "text/x-python",
   "name": "python",
   "nbconvert_exporter": "python",
   "pygments_lexer": "ipython3",
   "version": "3.7.7"
  }
 },
 "nbformat": 4,
 "nbformat_minor": 4
}
